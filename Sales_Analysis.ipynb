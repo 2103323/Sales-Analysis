{
  "nbformat": 4,
  "nbformat_minor": 0,
  "metadata": {
    "colab": {
      "provenance": []
    },
    "kernelspec": {
      "name": "python3",
      "display_name": "Python 3"
    },
    "language_info": {
      "name": "python"
    }
  },
  "cells": [
    {
      "cell_type": "code",
      "source": [
        "!pip install pyspark"
      ],
      "metadata": {
        "colab": {
          "base_uri": "https://localhost:8080/"
        },
        "id": "EHUahEgxVigR",
        "outputId": "4174cf45-4dfa-4c07-9986-436665430b87"
      },
      "execution_count": null,
      "outputs": [
        {
          "output_type": "stream",
          "name": "stdout",
          "text": [
            "Collecting pyspark\n",
            "  Downloading pyspark-3.5.0.tar.gz (316.9 MB)\n",
            "\u001b[2K     \u001b[90m━━━━━━━━━━━━━━━━━━━━━━━━━━━━━━━━━━━━━━━━\u001b[0m \u001b[32m316.9/316.9 MB\u001b[0m \u001b[31m3.2 MB/s\u001b[0m eta \u001b[36m0:00:00\u001b[0m\n",
            "\u001b[?25h  Preparing metadata (setup.py) ... \u001b[?25l\u001b[?25hdone\n",
            "Requirement already satisfied: py4j==0.10.9.7 in /usr/local/lib/python3.10/dist-packages (from pyspark) (0.10.9.7)\n",
            "Building wheels for collected packages: pyspark\n",
            "  Building wheel for pyspark (setup.py) ... \u001b[?25l\u001b[?25hdone\n",
            "  Created wheel for pyspark: filename=pyspark-3.5.0-py2.py3-none-any.whl size=317425344 sha256=dba2afcc06d9e0b7d3ec665c41c93b78f300680df6f6394b3c79391cf9995cf9\n",
            "  Stored in directory: /root/.cache/pip/wheels/41/4e/10/c2cf2467f71c678cfc8a6b9ac9241e5e44a01940da8fbb17fc\n",
            "Successfully built pyspark\n",
            "Installing collected packages: pyspark\n",
            "Successfully installed pyspark-3.5.0\n"
          ]
        }
      ]
    },
    {
      "cell_type": "code",
      "source": [
        "from pyspark.sql.types import StructType,StructField,IntegerType,StringType,DateType\n",
        "from pyspark.sql import SparkSession"
      ],
      "metadata": {
        "id": "AlACm1M6cHzs"
      },
      "execution_count": null,
      "outputs": []
    },
    {
      "cell_type": "code",
      "source": [
        "# Create a Spark Session\n",
        "spark = SparkSession.builder.appName(\"Create Table\").getOrCreate()\n",
        "\n",
        "# Define the custom schema\n",
        "custom_schema = StructType([\n",
        "    StructField(\"product_id\",IntegerType(),True),\n",
        "    StructField(\"customer_id\",StringType(),True),\n",
        "    StructField(\"order_date\",DateType(),True),\n",
        "    StructField(\"location\",StringType(),True),\n",
        "    StructField(\"source_order\",StringType(),True)\n",
        "])\n",
        "\n",
        "# Read CSV data with the custom schema\n",
        "df = spark.read.csv('/content/sales.csv', header=True, schema=custom_schema)\n",
        "\n",
        "# Create a temporary table\n",
        "df.createOrReplaceTempView(\"sales\")\n",
        "\n",
        "# Query the table\n",
        "# result = spark.sql(\"SELECT product_id, customer_id,order_date,location, source_order FROM sales\")\n",
        "df.show()\n"
      ],
      "metadata": {
        "colab": {
          "base_uri": "https://localhost:8080/"
        },
        "id": "FhRzxsUHlIDm",
        "outputId": "d2963ccf-cf14-4bd8-f1d9-c9307e51aa89"
      },
      "execution_count": null,
      "outputs": [
        {
          "output_type": "stream",
          "name": "stdout",
          "text": [
            "+----------+-----------+----------+--------+------------+\n",
            "|product_id|customer_id|order_date|location|source_order|\n",
            "+----------+-----------+----------+--------+------------+\n",
            "|         2|          A|2022-01-01|   India|      Swiggy|\n",
            "|         2|          A|2023-01-07|   India|      Swiggy|\n",
            "|         3|          A|2023-01-10|   India|  Restaurant|\n",
            "|         3|          A|2022-01-11|   India|      Swiggy|\n",
            "|         3|          A|2023-01-11|   India|  Restaurant|\n",
            "|         2|          B|2022-02-01|   India|      Swiggy|\n",
            "|         2|          B|2023-01-02|   India|      Swiggy|\n",
            "|         1|          B|2023-01-04|   India|  Restaurant|\n",
            "|         1|          B|2023-02-11|   India|      Swiggy|\n",
            "|         3|          B|2023-01-16|   India|      zomato|\n",
            "|         3|          B|2022-02-01|   India|      zomato|\n",
            "|         3|          C|2023-01-01|   India|      zomato|\n",
            "|         1|          C|2023-01-01|      UK|      Swiggy|\n",
            "|         6|          C|2022-01-07|      UK|      zomato|\n",
            "|         3|          D|2023-02-16|      UK|  Restaurant|\n",
            "|         5|          D|2022-02-01|      UK|      zomato|\n",
            "|         3|          E|2023-02-01|      UK|  Restaurant|\n",
            "|         4|          E|2023-02-01|      UK|      Swiggy|\n",
            "|         4|          E|2023-02-07|      UK|  Restaurant|\n",
            "|         2|          A|2022-01-01|      UK|      Swiggy|\n",
            "+----------+-----------+----------+--------+------------+\n",
            "only showing top 20 rows\n",
            "\n"
          ]
        }
      ]
    },
    {
      "cell_type": "code",
      "source": [
        "#Deriving year, month, quater\n",
        "from pyspark.sql.functions import month, year, quarter\n",
        "df = df.withColumn(\"order_year\",year(df.order_date)) #New Column adding"
      ],
      "metadata": {
        "id": "Q5lMNnU7rUW5"
      },
      "execution_count": null,
      "outputs": []
    },
    {
      "cell_type": "code",
      "source": [
        "df.show()"
      ],
      "metadata": {
        "colab": {
          "base_uri": "https://localhost:8080/"
        },
        "id": "pKG4foXPvK5t",
        "outputId": "7f9f84db-4dc3-465a-e332-4b3ee7522283"
      },
      "execution_count": null,
      "outputs": [
        {
          "output_type": "stream",
          "name": "stdout",
          "text": [
            "+----------+-----------+----------+--------+------------+----------+\n",
            "|product_id|customer_id|order_date|location|source_order|order_year|\n",
            "+----------+-----------+----------+--------+------------+----------+\n",
            "|         2|          A|2022-01-01|   India|      Swiggy|      2022|\n",
            "|         2|          A|2023-01-07|   India|      Swiggy|      2023|\n",
            "|         3|          A|2023-01-10|   India|  Restaurant|      2023|\n",
            "|         3|          A|2022-01-11|   India|      Swiggy|      2022|\n",
            "|         3|          A|2023-01-11|   India|  Restaurant|      2023|\n",
            "|         2|          B|2022-02-01|   India|      Swiggy|      2022|\n",
            "|         2|          B|2023-01-02|   India|      Swiggy|      2023|\n",
            "|         1|          B|2023-01-04|   India|  Restaurant|      2023|\n",
            "|         1|          B|2023-02-11|   India|      Swiggy|      2023|\n",
            "|         3|          B|2023-01-16|   India|      zomato|      2023|\n",
            "|         3|          B|2022-02-01|   India|      zomato|      2022|\n",
            "|         3|          C|2023-01-01|   India|      zomato|      2023|\n",
            "|         1|          C|2023-01-01|      UK|      Swiggy|      2023|\n",
            "|         6|          C|2022-01-07|      UK|      zomato|      2022|\n",
            "|         3|          D|2023-02-16|      UK|  Restaurant|      2023|\n",
            "|         5|          D|2022-02-01|      UK|      zomato|      2022|\n",
            "|         3|          E|2023-02-01|      UK|  Restaurant|      2023|\n",
            "|         4|          E|2023-02-01|      UK|      Swiggy|      2023|\n",
            "|         4|          E|2023-02-07|      UK|  Restaurant|      2023|\n",
            "|         2|          A|2022-01-01|      UK|      Swiggy|      2022|\n",
            "+----------+-----------+----------+--------+------------+----------+\n",
            "only showing top 20 rows\n",
            "\n"
          ]
        }
      ]
    },
    {
      "cell_type": "code",
      "source": [
        "df = df.withColumn(\"order_month\",month(df.order_date))\n",
        "df.show()"
      ],
      "metadata": {
        "colab": {
          "base_uri": "https://localhost:8080/"
        },
        "id": "rjHnCC5EwF8f",
        "outputId": "49a68ea0-99af-4e65-8e21-7cb8a7e29932"
      },
      "execution_count": null,
      "outputs": [
        {
          "output_type": "stream",
          "name": "stdout",
          "text": [
            "+----------+-----------+----------+--------+------------+----------+-----------+\n",
            "|product_id|customer_id|order_date|location|source_order|order_year|order_month|\n",
            "+----------+-----------+----------+--------+------------+----------+-----------+\n",
            "|         2|          A|2022-01-01|   India|      Swiggy|      2022|          1|\n",
            "|         2|          A|2023-01-07|   India|      Swiggy|      2023|          1|\n",
            "|         3|          A|2023-01-10|   India|  Restaurant|      2023|          1|\n",
            "|         3|          A|2022-01-11|   India|      Swiggy|      2022|          1|\n",
            "|         3|          A|2023-01-11|   India|  Restaurant|      2023|          1|\n",
            "|         2|          B|2022-02-01|   India|      Swiggy|      2022|          2|\n",
            "|         2|          B|2023-01-02|   India|      Swiggy|      2023|          1|\n",
            "|         1|          B|2023-01-04|   India|  Restaurant|      2023|          1|\n",
            "|         1|          B|2023-02-11|   India|      Swiggy|      2023|          2|\n",
            "|         3|          B|2023-01-16|   India|      zomato|      2023|          1|\n",
            "|         3|          B|2022-02-01|   India|      zomato|      2022|          2|\n",
            "|         3|          C|2023-01-01|   India|      zomato|      2023|          1|\n",
            "|         1|          C|2023-01-01|      UK|      Swiggy|      2023|          1|\n",
            "|         6|          C|2022-01-07|      UK|      zomato|      2022|          1|\n",
            "|         3|          D|2023-02-16|      UK|  Restaurant|      2023|          2|\n",
            "|         5|          D|2022-02-01|      UK|      zomato|      2022|          2|\n",
            "|         3|          E|2023-02-01|      UK|  Restaurant|      2023|          2|\n",
            "|         4|          E|2023-02-01|      UK|      Swiggy|      2023|          2|\n",
            "|         4|          E|2023-02-07|      UK|  Restaurant|      2023|          2|\n",
            "|         2|          A|2022-01-01|      UK|      Swiggy|      2022|          1|\n",
            "+----------+-----------+----------+--------+------------+----------+-----------+\n",
            "only showing top 20 rows\n",
            "\n"
          ]
        }
      ]
    },
    {
      "cell_type": "code",
      "source": [
        "df = df.withColumn(\"order_quater\",quarter(df.order_date))\n",
        "df.show()"
      ],
      "metadata": {
        "colab": {
          "base_uri": "https://localhost:8080/"
        },
        "id": "t4jHo-1_ws4_",
        "outputId": "4559f062-ce52-4667-cc1f-1df2f92c459a"
      },
      "execution_count": null,
      "outputs": [
        {
          "output_type": "stream",
          "name": "stdout",
          "text": [
            "+----------+-----------+----------+--------+------------+----------+-----------+------------+\n",
            "|product_id|customer_id|order_date|location|source_order|order_year|order_month|order_quater|\n",
            "+----------+-----------+----------+--------+------------+----------+-----------+------------+\n",
            "|         2|          A|2022-01-01|   India|      Swiggy|      2022|          1|           1|\n",
            "|         2|          A|2023-01-07|   India|      Swiggy|      2023|          1|           1|\n",
            "|         3|          A|2023-01-10|   India|  Restaurant|      2023|          1|           1|\n",
            "|         3|          A|2022-01-11|   India|      Swiggy|      2022|          1|           1|\n",
            "|         3|          A|2023-01-11|   India|  Restaurant|      2023|          1|           1|\n",
            "|         2|          B|2022-02-01|   India|      Swiggy|      2022|          2|           1|\n",
            "|         2|          B|2023-01-02|   India|      Swiggy|      2023|          1|           1|\n",
            "|         1|          B|2023-01-04|   India|  Restaurant|      2023|          1|           1|\n",
            "|         1|          B|2023-02-11|   India|      Swiggy|      2023|          2|           1|\n",
            "|         3|          B|2023-01-16|   India|      zomato|      2023|          1|           1|\n",
            "|         3|          B|2022-02-01|   India|      zomato|      2022|          2|           1|\n",
            "|         3|          C|2023-01-01|   India|      zomato|      2023|          1|           1|\n",
            "|         1|          C|2023-01-01|      UK|      Swiggy|      2023|          1|           1|\n",
            "|         6|          C|2022-01-07|      UK|      zomato|      2022|          1|           1|\n",
            "|         3|          D|2023-02-16|      UK|  Restaurant|      2023|          2|           1|\n",
            "|         5|          D|2022-02-01|      UK|      zomato|      2022|          2|           1|\n",
            "|         3|          E|2023-02-01|      UK|  Restaurant|      2023|          2|           1|\n",
            "|         4|          E|2023-02-01|      UK|      Swiggy|      2023|          2|           1|\n",
            "|         4|          E|2023-02-07|      UK|  Restaurant|      2023|          2|           1|\n",
            "|         2|          A|2022-01-01|      UK|      Swiggy|      2022|          1|           1|\n",
            "+----------+-----------+----------+--------+------------+----------+-----------+------------+\n",
            "only showing top 20 rows\n",
            "\n"
          ]
        }
      ]
    },
    {
      "cell_type": "code",
      "source": [
        "spark = SparkSession.builder.appName(\"menu\").getOrCreate()\n",
        "custom_schema = StructType([\n",
        "    StructField(\"product_id\",IntegerType(),True),\n",
        "    StructField(\"product_name\",StringType(),True),\n",
        "    StructField(\"price\",StringType(),True)\n",
        "])\n",
        "\n",
        "menu_df = spark.read.csv(\"/content/menu.csv\",header = True,schema = custom_schema)\n",
        "menu_df.show()"
      ],
      "metadata": {
        "colab": {
          "base_uri": "https://localhost:8080/"
        },
        "id": "pUzfka86ymhk",
        "outputId": "a901f435-f337-4938-c3ee-cf7369b9a042"
      },
      "execution_count": null,
      "outputs": [
        {
          "output_type": "stream",
          "name": "stdout",
          "text": [
            "+----------+------------+-----+\n",
            "|product_id|product_name|price|\n",
            "+----------+------------+-----+\n",
            "|         2|     Chowmin|  150|\n",
            "|         3|    sandwich|  120|\n",
            "|         4|        Dosa|  110|\n",
            "|         5|     Biryani|   80|\n",
            "|         6|       Pasta|  180|\n",
            "+----------+------------+-----+\n",
            "\n"
          ]
        }
      ]
    },
    {
      "cell_type": "code",
      "source": [
        "#Total amount spent by each costumer\n",
        "total_amount_spent = (df.join(menu_df,'product_id').groupBy('customer_id').agg({'price':'sum'}).orderBy(\"customer_id\"))\n",
        "total_amount_spent.show()\n",
        "display(total_amount_spent)"
      ],
      "metadata": {
        "id": "IoGguZ0I5RTd",
        "colab": {
          "base_uri": "https://localhost:8080/",
          "height": 244
        },
        "outputId": "7fea2fbf-08e0-4c44-81c8-cb19bf249148"
      },
      "execution_count": null,
      "outputs": [
        {
          "output_type": "stream",
          "name": "stdout",
          "text": [
            "+-----------+----------+\n",
            "|customer_id|sum(price)|\n",
            "+-----------+----------+\n",
            "|          A|    3960.0|\n",
            "|          B|    3240.0|\n",
            "|          C|    1800.0|\n",
            "|          D|    1200.0|\n",
            "|          E|    2040.0|\n",
            "+-----------+----------+\n",
            "\n"
          ]
        },
        {
          "output_type": "display_data",
          "data": {
            "text/plain": [
              "DataFrame[customer_id: string, sum(price): double]"
            ]
          },
          "metadata": {}
        }
      ]
    },
    {
      "cell_type": "code",
      "source": [
        "df.show()"
      ],
      "metadata": {
        "colab": {
          "base_uri": "https://localhost:8080/"
        },
        "id": "Gf1PfCcV87ub",
        "outputId": "9d11b634-0ff5-493f-ccab-99a7838d01ae"
      },
      "execution_count": null,
      "outputs": [
        {
          "output_type": "stream",
          "name": "stdout",
          "text": [
            "+----------+-----------+----------+--------+------------+----------+-----------+------------+\n",
            "|product_id|customer_id|order_date|location|source_order|order_year|order_month|order_quater|\n",
            "+----------+-----------+----------+--------+------------+----------+-----------+------------+\n",
            "|         2|          A|2022-01-01|   India|      Swiggy|      2022|          1|           1|\n",
            "|         2|          A|2023-01-07|   India|      Swiggy|      2023|          1|           1|\n",
            "|         3|          A|2023-01-10|   India|  Restaurant|      2023|          1|           1|\n",
            "|         3|          A|2022-01-11|   India|      Swiggy|      2022|          1|           1|\n",
            "|         3|          A|2023-01-11|   India|  Restaurant|      2023|          1|           1|\n",
            "|         2|          B|2022-02-01|   India|      Swiggy|      2022|          2|           1|\n",
            "|         2|          B|2023-01-02|   India|      Swiggy|      2023|          1|           1|\n",
            "|         1|          B|2023-01-04|   India|  Restaurant|      2023|          1|           1|\n",
            "|         1|          B|2023-02-11|   India|      Swiggy|      2023|          2|           1|\n",
            "|         3|          B|2023-01-16|   India|      zomato|      2023|          1|           1|\n",
            "|         3|          B|2022-02-01|   India|      zomato|      2022|          2|           1|\n",
            "|         3|          C|2023-01-01|   India|      zomato|      2023|          1|           1|\n",
            "|         1|          C|2023-01-01|      UK|      Swiggy|      2023|          1|           1|\n",
            "|         6|          C|2022-01-07|      UK|      zomato|      2022|          1|           1|\n",
            "|         3|          D|2023-02-16|      UK|  Restaurant|      2023|          2|           1|\n",
            "|         5|          D|2022-02-01|      UK|      zomato|      2022|          2|           1|\n",
            "|         3|          E|2023-02-01|      UK|  Restaurant|      2023|          2|           1|\n",
            "|         4|          E|2023-02-01|      UK|      Swiggy|      2023|          2|           1|\n",
            "|         4|          E|2023-02-07|      UK|  Restaurant|      2023|          2|           1|\n",
            "|         2|          A|2022-01-01|      UK|      Swiggy|      2022|          1|           1|\n",
            "+----------+-----------+----------+--------+------------+----------+-----------+------------+\n",
            "only showing top 20 rows\n",
            "\n"
          ]
        }
      ]
    },
    {
      "cell_type": "code",
      "source": [
        "#Total amount spent on each food category\n",
        "food_spent = df.join(menu_df,\"product_id\").groupBy(\"product_name\").agg({'price':'sum'}).orderBy('product_name')\n",
        "food_spent.show()"
      ],
      "metadata": {
        "colab": {
          "base_uri": "https://localhost:8080/"
        },
        "id": "vDPFjRD8_BAN",
        "outputId": "948b9ec7-c52c-4f31-f55b-f9a95c3d7d51"
      },
      "execution_count": null,
      "outputs": [
        {
          "output_type": "stream",
          "name": "stdout",
          "text": [
            "+------------+----------+\n",
            "|product_name|sum(price)|\n",
            "+------------+----------+\n",
            "|     Biryani|     480.0|\n",
            "|     Chowmin|    3600.0|\n",
            "|        Dosa|    1320.0|\n",
            "|       Pasta|    1080.0|\n",
            "|    sandwich|    5760.0|\n",
            "+------------+----------+\n",
            "\n"
          ]
        }
      ]
    },
    {
      "cell_type": "code",
      "source": [
        "#Total sales each month\n",
        "df1 = (df.join(menu_df,\"product_id\").groupBy('order_month').agg({\"price\":\"sum\"}).orderBy('order_month'))\n",
        "df1.show()"
      ],
      "metadata": {
        "colab": {
          "base_uri": "https://localhost:8080/"
        },
        "id": "Vic5R6q1AiXP",
        "outputId": "1c2a6d5f-ac25-4302-f0e1-60f800b02a15"
      },
      "execution_count": null,
      "outputs": [
        {
          "output_type": "stream",
          "name": "stdout",
          "text": [
            "+-----------+----------+\n",
            "|order_month|sum(price)|\n",
            "+-----------+----------+\n",
            "|          1|    2460.0|\n",
            "|          2|    2430.0|\n",
            "|          3|     810.0|\n",
            "|          5|    2460.0|\n",
            "|          6|    2460.0|\n",
            "|          7|     810.0|\n",
            "|         11|     810.0|\n",
            "+-----------+----------+\n",
            "\n"
          ]
        }
      ]
    },
    {
      "cell_type": "code",
      "source": [
        "#Yearly sales\n",
        "df2 = (df.join(menu_df,\"product_id\").groupBy('order_year').agg({\"price\":\"sum\"}).orderBy('order_year'))\n",
        "df2.show()"
      ],
      "metadata": {
        "colab": {
          "base_uri": "https://localhost:8080/"
        },
        "id": "4sqBWrVJETdk",
        "outputId": "f8cf5b72-cc81-44bb-8024-7ff5f7f76c2a"
      },
      "execution_count": null,
      "outputs": [
        {
          "output_type": "stream",
          "name": "stdout",
          "text": [
            "+----------+----------+\n",
            "|order_year|sum(price)|\n",
            "+----------+----------+\n",
            "|      2022|    4350.0|\n",
            "|      2023|    7890.0|\n",
            "+----------+----------+\n",
            "\n"
          ]
        }
      ]
    },
    {
      "cell_type": "code",
      "source": [
        "df3 = (df.join(menu_df,\"product_id\").groupBy('order_quater').agg({\"price\":\"sum\"}).orderBy('order_quater'))\n",
        "df3.show()"
      ],
      "metadata": {
        "colab": {
          "base_uri": "https://localhost:8080/"
        },
        "id": "wM3Xo6QsE0Kx",
        "outputId": "e9cbf989-40e2-4f17-8dd0-30c7a2e5ee3c"
      },
      "execution_count": null,
      "outputs": [
        {
          "output_type": "stream",
          "name": "stdout",
          "text": [
            "+------------+----------+\n",
            "|order_quater|sum(price)|\n",
            "+------------+----------+\n",
            "|           1|    5700.0|\n",
            "|           2|    4920.0|\n",
            "|           3|     810.0|\n",
            "|           4|     810.0|\n",
            "+------------+----------+\n",
            "\n"
          ]
        }
      ]
    },
    {
      "cell_type": "code",
      "source": [
        "# how many times each product purchased\n",
        "from pyspark.sql.functions import count\n",
        "most_df = (df.join(menu_df,'product_id').groupBy('product_id','product_name').agg(count('product_id').alias('product_count')).orderBy('product_count',ascending = 0)\n",
        ".drop('product_id'))\n",
        "most_df.show()"
      ],
      "metadata": {
        "id": "2X9e3JcHE-LI",
        "colab": {
          "base_uri": "https://localhost:8080/"
        },
        "outputId": "bbc68822-de5c-4e4e-eeb7-723dcdcdc234"
      },
      "execution_count": null,
      "outputs": [
        {
          "output_type": "stream",
          "name": "stdout",
          "text": [
            "+------------+-------------+\n",
            "|product_name|product_count|\n",
            "+------------+-------------+\n",
            "|    sandwich|           48|\n",
            "|     Chowmin|           24|\n",
            "|        Dosa|           12|\n",
            "|     Biryani|            6|\n",
            "|       Pasta|            6|\n",
            "+------------+-------------+\n",
            "\n"
          ]
        }
      ]
    },
    {
      "cell_type": "code",
      "source": [
        "#Frequency of customer visited to restaurant\n",
        "from pyspark.sql.functions import countDistinct\n",
        "\n",
        "visit_df = (df.filter(df.source_order == 'Restaurant').groupBy('customer_id').agg(countDistinct('order_date')))\n",
        "visit_df.show()"
      ],
      "metadata": {
        "colab": {
          "base_uri": "https://localhost:8080/"
        },
        "id": "LUJk8-HC1J8d",
        "outputId": "8ffe86c1-4538-48f3-a38e-19a3c1e67a03"
      },
      "execution_count": null,
      "outputs": [
        {
          "output_type": "stream",
          "name": "stdout",
          "text": [
            "+-----------+--------------------------+\n",
            "|customer_id|count(DISTINCT order_date)|\n",
            "+-----------+--------------------------+\n",
            "|          E|                         5|\n",
            "|          B|                         6|\n",
            "|          D|                         1|\n",
            "|          C|                         3|\n",
            "|          A|                         6|\n",
            "+-----------+--------------------------+\n",
            "\n"
          ]
        }
      ]
    },
    {
      "cell_type": "code",
      "source": [
        "#total sales by each country\n",
        "country_df = (df.join(menu_df,'product_id').groupBy('location').agg({'price':'sum'}))\n",
        "country_df.show()"
      ],
      "metadata": {
        "colab": {
          "base_uri": "https://localhost:8080/"
        },
        "id": "As4rK-ZD4gvZ",
        "outputId": "f8e2aa2c-8e15-4739-dcb7-503fb85555fa"
      },
      "execution_count": null,
      "outputs": [
        {
          "output_type": "stream",
          "name": "stdout",
          "text": [
            "+--------+----------+\n",
            "|location|sum(price)|\n",
            "+--------+----------+\n",
            "|   India|    3960.0|\n",
            "|     USA|    2160.0|\n",
            "|      UK|    6120.0|\n",
            "+--------+----------+\n",
            "\n"
          ]
        }
      ]
    },
    {
      "cell_type": "code",
      "source": [
        "#total sales by order source\n",
        "order_df = (df.join(menu_df,'product_id').groupBy('source_order').agg({'price':'sum'}))\n",
        "order_df.show()"
      ],
      "metadata": {
        "colab": {
          "base_uri": "https://localhost:8080/"
        },
        "id": "qf0dPxmq6sPz",
        "outputId": "7677c944-a6c9-4e6e-9115-fb80ca085ea9"
      },
      "execution_count": null,
      "outputs": [
        {
          "output_type": "stream",
          "name": "stdout",
          "text": [
            "+------------+----------+\n",
            "|source_order|sum(price)|\n",
            "+------------+----------+\n",
            "|      zomato|    4920.0|\n",
            "|      Swiggy|    4830.0|\n",
            "|  Restaurant|    2490.0|\n",
            "+------------+----------+\n",
            "\n"
          ]
        }
      ]
    }
  ]
}